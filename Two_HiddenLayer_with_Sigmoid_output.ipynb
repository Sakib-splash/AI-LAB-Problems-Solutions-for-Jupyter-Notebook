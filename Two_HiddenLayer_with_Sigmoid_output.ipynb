{
 "cells": [
  {
   "cell_type": "code",
   "execution_count": 1,
   "id": "5c15fea1-d8e9-4c66-85f1-60fbd8b9c7bd",
   "metadata": {},
   "outputs": [
    {
     "name": "stdout",
     "output_type": "stream",
     "text": [
      "[[0.86426681]\n",
      " [0.86481613]\n",
      " [0.86473717]\n",
      " [0.8662168 ]\n",
      " [0.86590671]\n",
      " [0.8649873 ]\n",
      " [0.86518674]\n",
      " [0.86583559]\n",
      " [0.86751374]\n",
      " [0.86727007]]\n"
     ]
    }
   ],
   "source": [
    "import numpy as np\n",
    "\n",
    "\n",
    "input_neurons = 4\n",
    "hidden1_neurons = 3\n",
    "hidden2_neurons = 3\n",
    "output_neurons = 1\n",
    "\n",
    "\n",
    "weights_input_hidden1 = np.random.rand(input_neurons, hidden1_neurons)\n",
    "biases_hidden1 = np.random.rand(hidden1_neurons)\n",
    "\n",
    "weights_hidden1_hidden2 = np.random.rand(hidden1_neurons, hidden2_neurons)\n",
    "biases_hidden2 = np.random.rand(hidden2_neurons)\n",
    "\n",
    "weights_hidden2_output = np.random.rand(hidden2_neurons, output_neurons)\n",
    "bias_output = np.random.rand(output_neurons)\n",
    "\n",
    "def sigmoid(x):\n",
    "    return 1 / (1 + np.exp(-x))\n",
    "\n",
    "input_data = np.random.rand(10, input_neurons)\n",
    "\n",
    "hidden1_output = np.dot(input_data, weights_input_hidden1) + biases_hidden1\n",
    "hidden1_activation = sigmoid(hidden1_output)\n",
    "\n",
    "hidden2_output = np.dot(hidden1_activation, weights_hidden1_hidden2) + biases_hidden2\n",
    "hidden2_activation = sigmoid(hidden2_output)\n",
    "\n",
    "output_layer_output = np.dot(hidden2_activation, weights_hidden2_output) + bias_output\n",
    "output = sigmoid(output_layer_output)\n",
    "\n",
    "print(output)\n",
    "\n"
   ]
  },
  {
   "cell_type": "code",
   "execution_count": null,
   "id": "f0fa4297-4112-4eb5-bad1-88b66826565a",
   "metadata": {},
   "outputs": [],
   "source": []
  }
 ],
 "metadata": {
  "kernelspec": {
   "display_name": "Python 3 (ipykernel)",
   "language": "python",
   "name": "python3"
  },
  "language_info": {
   "codemirror_mode": {
    "name": "ipython",
    "version": 3
   },
   "file_extension": ".py",
   "mimetype": "text/x-python",
   "name": "python",
   "nbconvert_exporter": "python",
   "pygments_lexer": "ipython3",
   "version": "3.12.3"
  }
 },
 "nbformat": 4,
 "nbformat_minor": 5
}

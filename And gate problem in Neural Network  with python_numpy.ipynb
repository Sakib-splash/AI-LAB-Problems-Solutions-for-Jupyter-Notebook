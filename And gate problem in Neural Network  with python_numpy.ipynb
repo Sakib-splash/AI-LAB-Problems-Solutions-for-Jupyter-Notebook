{
 "cells": [
  {
   "cell_type": "code",
   "execution_count": 4,
   "id": "ea53adc1-b950-4941-b48a-00d214816e5d",
   "metadata": {},
   "outputs": [
    {
     "name": "stdout",
     "output_type": "stream",
     "text": [
      "Inputs: [[0 0]\n",
      " [0 1]\n",
      " [1 0]\n",
      " [1 1]]\n",
      "Labels: [0 0 0 1]\n",
      "Predicted Outputs: [1, 1, 1, 1]\n",
      "Correct Predictions: 1\n"
     ]
    }
   ],
   "source": []
  },
  {
   "cell_type": "code",
   "execution_count": null,
   "id": "7e014c16-7b98-4394-8ed8-b5a03eeaf58d",
   "metadata": {},
   "outputs": [],
   "source": []
  },
  {
   "cell_type": "code",
   "execution_count": null,
   "id": "3254ae04-5c4a-4e97-a56e-79825e83d266",
   "metadata": {},
   "outputs": [],
   "source": []
  },
  {
   "cell_type": "code",
   "execution_count": null,
   "id": "d5855345-9a55-4778-bdc0-cca66e8873a2",
   "metadata": {},
   "outputs": [],
   "source": [
    "import numpy as np\n",
    "\n",
    "inputs = np.array([[0,0],[0,1],[1,0],[1,1]])\n",
    "\n",
    "labels = np.array([0, 0, 0, 1])\n",
    "\n",
    "weights = np.random.uniform(-1,1, size=2)\n",
    "bias = np.random.uniform(-1,1)\n",
    "\n",
    "def step_function(x):\n",
    "    return 0 if x<=0 else 1\n",
    "\n",
    "outputs = []\n",
    "\n",
    "for input_row in inputs:\n",
    "    weighted_sum= np.dot(input_row, weights) + bias\n",
    "    output = step_function(weighted_sum)\n",
    "    outputs.append(output)\n",
    "correct_predictions = np.sum(outputs == labels)\n",
    "\n",
    "print(\"Inputs:\", inputs)\n",
    "print(\"Labels:\", labels)\n",
    "print(\"Predicted Outputs:\", outputs)\n",
    "print(\"Correct Predictions:\", correct_predictions)"
   ]
  }
 ],
 "metadata": {
  "kernelspec": {
   "display_name": "Python 3 (ipykernel)",
   "language": "python",
   "name": "python3"
  },
  "language_info": {
   "codemirror_mode": {
    "name": "ipython",
    "version": 3
   },
   "file_extension": ".py",
   "mimetype": "text/x-python",
   "name": "python",
   "nbconvert_exporter": "python",
   "pygments_lexer": "ipython3",
   "version": "3.12.3"
  }
 },
 "nbformat": 4,
 "nbformat_minor": 5
}
